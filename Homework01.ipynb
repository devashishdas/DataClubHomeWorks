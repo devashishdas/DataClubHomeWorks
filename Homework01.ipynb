{
 "cells": [
  {
   "cell_type": "code",
   "execution_count": 4,
   "id": "7be262fb",
   "metadata": {},
   "outputs": [],
   "source": [
    "import numpy as np\n",
    "import pandas as pd"
   ]
  },
  {
   "cell_type": "code",
   "execution_count": 7,
   "id": "a43ce65b",
   "metadata": {},
   "outputs": [
    {
     "data": {
      "text/plain": [
       "'1.20.1'"
      ]
     },
     "execution_count": 7,
     "metadata": {},
     "output_type": "execute_result"
    }
   ],
   "source": [
    "np.__version__"
   ]
  },
  {
   "cell_type": "code",
   "execution_count": 8,
   "id": "8bd84f3e",
   "metadata": {},
   "outputs": [
    {
     "data": {
      "text/plain": [
       "'1.2.4'"
      ]
     },
     "execution_count": 8,
     "metadata": {},
     "output_type": "execute_result"
    }
   ],
   "source": [
    "pd.__version__"
   ]
  },
  {
   "cell_type": "code",
   "execution_count": 9,
   "id": "1b7a7fe5",
   "metadata": {},
   "outputs": [],
   "source": [
    "Data = pd.read_csv(\"data.csv\")"
   ]
  },
  {
   "cell_type": "code",
   "execution_count": 10,
   "id": "7e317537",
   "metadata": {},
   "outputs": [
    {
     "name": "stdout",
     "output_type": "stream",
     "text": [
      "          Make       Model  Year                Engine Fuel Type  Engine HP  \\\n",
      "0          BMW  1 Series M  2011     premium unleaded (required)      335.0   \n",
      "1          BMW    1 Series  2011     premium unleaded (required)      300.0   \n",
      "2          BMW    1 Series  2011     premium unleaded (required)      300.0   \n",
      "3          BMW    1 Series  2011     premium unleaded (required)      230.0   \n",
      "4          BMW    1 Series  2011     premium unleaded (required)      230.0   \n",
      "...        ...         ...   ...                             ...        ...   \n",
      "11909    Acura         ZDX  2012     premium unleaded (required)      300.0   \n",
      "11910    Acura         ZDX  2012     premium unleaded (required)      300.0   \n",
      "11911    Acura         ZDX  2012     premium unleaded (required)      300.0   \n",
      "11912    Acura         ZDX  2013  premium unleaded (recommended)      300.0   \n",
      "11913  Lincoln      Zephyr  2006                regular unleaded      221.0   \n",
      "\n",
      "       Engine Cylinders Transmission Type      Driven_Wheels  Number of Doors  \\\n",
      "0                   6.0            MANUAL   rear wheel drive              2.0   \n",
      "1                   6.0            MANUAL   rear wheel drive              2.0   \n",
      "2                   6.0            MANUAL   rear wheel drive              2.0   \n",
      "3                   6.0            MANUAL   rear wheel drive              2.0   \n",
      "4                   6.0            MANUAL   rear wheel drive              2.0   \n",
      "...                 ...               ...                ...              ...   \n",
      "11909               6.0         AUTOMATIC    all wheel drive              4.0   \n",
      "11910               6.0         AUTOMATIC    all wheel drive              4.0   \n",
      "11911               6.0         AUTOMATIC    all wheel drive              4.0   \n",
      "11912               6.0         AUTOMATIC    all wheel drive              4.0   \n",
      "11913               6.0         AUTOMATIC  front wheel drive              4.0   \n",
      "\n",
      "                             Market Category Vehicle Size  Vehicle Style  \\\n",
      "0      Factory Tuner,Luxury,High-Performance      Compact          Coupe   \n",
      "1                         Luxury,Performance      Compact    Convertible   \n",
      "2                    Luxury,High-Performance      Compact          Coupe   \n",
      "3                         Luxury,Performance      Compact          Coupe   \n",
      "4                                     Luxury      Compact    Convertible   \n",
      "...                                      ...          ...            ...   \n",
      "11909             Crossover,Hatchback,Luxury      Midsize  4dr Hatchback   \n",
      "11910             Crossover,Hatchback,Luxury      Midsize  4dr Hatchback   \n",
      "11911             Crossover,Hatchback,Luxury      Midsize  4dr Hatchback   \n",
      "11912             Crossover,Hatchback,Luxury      Midsize  4dr Hatchback   \n",
      "11913                                 Luxury      Midsize          Sedan   \n",
      "\n",
      "       highway MPG  city mpg  Popularity   MSRP  \n",
      "0               26        19        3916  46135  \n",
      "1               28        19        3916  40650  \n",
      "2               28        20        3916  36350  \n",
      "3               28        18        3916  29450  \n",
      "4               28        18        3916  34500  \n",
      "...            ...       ...         ...    ...  \n",
      "11909           23        16         204  46120  \n",
      "11910           23        16         204  56670  \n",
      "11911           23        16         204  50620  \n",
      "11912           23        16         204  50920  \n",
      "11913           26        17          61  28995  \n",
      "\n",
      "[11914 rows x 16 columns]\n"
     ]
    }
   ],
   "source": [
    "print(Data)"
   ]
  },
  {
   "cell_type": "code",
   "execution_count": 19,
   "id": "789a5f76",
   "metadata": {},
   "outputs": [
    {
     "data": {
      "text/plain": [
       "61546.76347305389"
      ]
     },
     "execution_count": 19,
     "metadata": {},
     "output_type": "execute_result"
    }
   ],
   "source": [
    "Data[Data.Make == \"BMW\"].MSRP.mean()"
   ]
  },
  {
   "cell_type": "code",
   "execution_count": 28,
   "id": "b705534f",
   "metadata": {},
   "outputs": [
    {
     "data": {
      "text/plain": [
       "Engine HP    51\n",
       "dtype: int64"
      ]
     },
     "execution_count": 28,
     "metadata": {},
     "output_type": "execute_result"
    }
   ],
   "source": [
    "Data[Data.Year >= 2015][[\"Engine HP\"]].isnull().sum()\n"
   ]
  },
  {
   "cell_type": "code",
   "execution_count": 29,
   "id": "33b6193d",
   "metadata": {},
   "outputs": [
    {
     "data": {
      "text/plain": [
       "Engine HP    272.987719\n",
       "dtype: float64"
      ]
     },
     "execution_count": 29,
     "metadata": {},
     "output_type": "execute_result"
    }
   ],
   "source": [
    "Data[Data.Year >= 2015][[\"Engine HP\"]].mean()"
   ]
  },
  {
   "cell_type": "code",
   "execution_count": 31,
   "id": "7fcb1bc6",
   "metadata": {},
   "outputs": [],
   "source": [
    "Data2 = Data[Data.Year >= 2015][[\"Engine HP\"]].fillna(272.987719)"
   ]
  },
  {
   "cell_type": "code",
   "execution_count": 32,
   "id": "7173aaa3",
   "metadata": {},
   "outputs": [
    {
     "data": {
      "text/plain": [
       "Engine HP    272.987719\n",
       "dtype: float64"
      ]
     },
     "execution_count": 32,
     "metadata": {},
     "output_type": "execute_result"
    }
   ],
   "source": [
    "Data2.mean()"
   ]
  },
  {
   "cell_type": "code",
   "execution_count": 63,
   "id": "095ce864",
   "metadata": {},
   "outputs": [
    {
     "data": {
      "text/html": [
       "<div>\n",
       "<style scoped>\n",
       "    .dataframe tbody tr th:only-of-type {\n",
       "        vertical-align: middle;\n",
       "    }\n",
       "\n",
       "    .dataframe tbody tr th {\n",
       "        vertical-align: top;\n",
       "    }\n",
       "\n",
       "    .dataframe thead th {\n",
       "        text-align: right;\n",
       "    }\n",
       "</style>\n",
       "<table border=\"1\" class=\"dataframe\">\n",
       "  <thead>\n",
       "    <tr style=\"text-align: right;\">\n",
       "      <th></th>\n",
       "      <th>Engine HP</th>\n",
       "      <th>Engine Cylinders</th>\n",
       "      <th>highway MPG</th>\n",
       "    </tr>\n",
       "  </thead>\n",
       "  <tbody>\n",
       "    <tr>\n",
       "      <th>2921</th>\n",
       "      <td>325.0</td>\n",
       "      <td>8.0</td>\n",
       "      <td>15</td>\n",
       "    </tr>\n",
       "    <tr>\n",
       "      <th>3505</th>\n",
       "      <td>563.0</td>\n",
       "      <td>12.0</td>\n",
       "      <td>19</td>\n",
       "    </tr>\n",
       "    <tr>\n",
       "      <th>5275</th>\n",
       "      <td>563.0</td>\n",
       "      <td>12.0</td>\n",
       "      <td>21</td>\n",
       "    </tr>\n",
       "    <tr>\n",
       "      <th>5279</th>\n",
       "      <td>563.0</td>\n",
       "      <td>12.0</td>\n",
       "      <td>20</td>\n",
       "    </tr>\n",
       "    <tr>\n",
       "      <th>7443</th>\n",
       "      <td>322.0</td>\n",
       "      <td>12.0</td>\n",
       "      <td>15</td>\n",
       "    </tr>\n",
       "    <tr>\n",
       "      <th>7553</th>\n",
       "      <td>453.0</td>\n",
       "      <td>12.0</td>\n",
       "      <td>19</td>\n",
       "    </tr>\n",
       "    <tr>\n",
       "      <th>11448</th>\n",
       "      <td>624.0</td>\n",
       "      <td>12.0</td>\n",
       "      <td>21</td>\n",
       "    </tr>\n",
       "  </tbody>\n",
       "</table>\n",
       "</div>"
      ],
      "text/plain": [
       "       Engine HP  Engine Cylinders  highway MPG\n",
       "2921       325.0               8.0           15\n",
       "3505       563.0              12.0           19\n",
       "5275       563.0              12.0           21\n",
       "5279       563.0              12.0           20\n",
       "7443       322.0              12.0           15\n",
       "7553       453.0              12.0           19\n",
       "11448      624.0              12.0           21"
      ]
     },
     "execution_count": 63,
     "metadata": {},
     "output_type": "execute_result"
    }
   ],
   "source": [
    "TX = Data[Data.Make == \"Rolls-Royce\"][[\"Engine HP\", \"Engine Cylinders\", \"highway MPG\"]]\n",
    "X = TX.drop_duplicates()\n",
    "X"
   ]
  },
  {
   "cell_type": "code",
   "execution_count": 65,
   "id": "3bc21899",
   "metadata": {},
   "outputs": [],
   "source": [
    "XT = X.T\n",
    "XTX = XT.dot(X)\n",
    "inv = np.linalg.inv(XTX) \n",
    "sum_inv = sum(sum(inv))"
   ]
  },
  {
   "cell_type": "code",
   "execution_count": 66,
   "id": "97989bd7",
   "metadata": {},
   "outputs": [],
   "source": [
    "y = np.array([1000, 1100, 900, 1200, 1000, 850, 1300])"
   ]
  },
  {
   "cell_type": "code",
   "execution_count": 67,
   "id": "00971f98",
   "metadata": {},
   "outputs": [
    {
     "data": {
      "text/plain": [
       "array([ 0.19989598, 31.02612262, 31.65378877])"
      ]
     },
     "execution_count": 67,
     "metadata": {},
     "output_type": "execute_result"
    }
   ],
   "source": [
    "w = inv.dot(X.T).dot(y)\n",
    "w"
   ]
  }
 ],
 "metadata": {
  "kernelspec": {
   "display_name": "Python 3",
   "language": "python",
   "name": "python3"
  },
  "language_info": {
   "codemirror_mode": {
    "name": "ipython",
    "version": 3
   },
   "file_extension": ".py",
   "mimetype": "text/x-python",
   "name": "python",
   "nbconvert_exporter": "python",
   "pygments_lexer": "ipython3",
   "version": "3.8.8"
  }
 },
 "nbformat": 4,
 "nbformat_minor": 5
}
